{
 "nbformat": 4,
 "nbformat_minor": 0,
 "metadata": {
  "colab": {
   "provenance": []
  },
  "kernelspec": {
   "name": "python3",
   "display_name": "Python 3"
  },
  "language_info": {
   "name": "python"
  },
  "widgets": {
   "application/vnd.jupyter.widget-state+json": {
    "7cf9f7fe57c84181b6b694bbc70b3343": {
     "model_module": "@jupyter-widgets/controls",
     "model_name": "HBoxModel",
     "model_module_version": "1.5.0",
     "state": {
      "_dom_classes": [],
      "_model_module": "@jupyter-widgets/controls",
      "_model_module_version": "1.5.0",
      "_model_name": "HBoxModel",
      "_view_count": null,
      "_view_module": "@jupyter-widgets/controls",
      "_view_module_version": "1.5.0",
      "_view_name": "HBoxView",
      "box_style": "",
      "children": [
       "IPY_MODEL_c030e9fd61204f56b4d5c3a6fcabc2d2",
       "IPY_MODEL_c06210eab7364871866e14ce72e9c4c6",
       "IPY_MODEL_ae98072388bc478ba4ccff4d9ba3da95"
      ],
      "layout": "IPY_MODEL_9e570e5f4f244451be9bed18d3653b9c"
     }
    },
    "c030e9fd61204f56b4d5c3a6fcabc2d2": {
     "model_module": "@jupyter-widgets/controls",
     "model_name": "HTMLModel",
     "model_module_version": "1.5.0",
     "state": {
      "_dom_classes": [],
      "_model_module": "@jupyter-widgets/controls",
      "_model_module_version": "1.5.0",
      "_model_name": "HTMLModel",
      "_view_count": null,
      "_view_module": "@jupyter-widgets/controls",
      "_view_module_version": "1.5.0",
      "_view_name": "HTMLView",
      "description": "",
      "description_tooltip": null,
      "layout": "IPY_MODEL_976177133ca6455cb14ab5df2334bb69",
      "placeholder": "​",
      "style": "IPY_MODEL_387becfc6c17441c89ce3cb9bfc2ecc2",
      "value": "  8%"
     }
    },
    "c06210eab7364871866e14ce72e9c4c6": {
     "model_module": "@jupyter-widgets/controls",
     "model_name": "FloatProgressModel",
     "model_module_version": "1.5.0",
     "state": {
      "_dom_classes": [],
      "_model_module": "@jupyter-widgets/controls",
      "_model_module_version": "1.5.0",
      "_model_name": "FloatProgressModel",
      "_view_count": null,
      "_view_module": "@jupyter-widgets/controls",
      "_view_module_version": "1.5.0",
      "_view_name": "ProgressView",
      "bar_style": "",
      "description": "",
      "description_tooltip": null,
      "layout": "IPY_MODEL_83780ad9f8b5438c9fe9f7ec5ffd2ac8",
      "max": 50000,
      "min": 0,
      "orientation": "horizontal",
      "style": "IPY_MODEL_db4e26d1d7064b81b81c58c82e371857",
      "value": 4096
     }
    },
    "ae98072388bc478ba4ccff4d9ba3da95": {
     "model_module": "@jupyter-widgets/controls",
     "model_name": "HTMLModel",
     "model_module_version": "1.5.0",
     "state": {
      "_dom_classes": [],
      "_model_module": "@jupyter-widgets/controls",
      "_model_module_version": "1.5.0",
      "_model_name": "HTMLModel",
      "_view_count": null,
      "_view_module": "@jupyter-widgets/controls",
      "_view_module_version": "1.5.0",
      "_view_name": "HTMLView",
      "description": "",
      "description_tooltip": null,
      "layout": "IPY_MODEL_6ed0a56effb74987b5333db4bc236e7c",
      "placeholder": "​",
      "style": "IPY_MODEL_9087d9887cef4720ab9258ec08ab1716",
      "value": " 4096/50000 [10:08&lt;1:42:06,  7.49it/s]"
     }
    },
    "9e570e5f4f244451be9bed18d3653b9c": {
     "model_module": "@jupyter-widgets/base",
     "model_name": "LayoutModel",
     "model_module_version": "1.2.0",
     "state": {
      "_model_module": "@jupyter-widgets/base",
      "_model_module_version": "1.2.0",
      "_model_name": "LayoutModel",
      "_view_count": null,
      "_view_module": "@jupyter-widgets/base",
      "_view_module_version": "1.2.0",
      "_view_name": "LayoutView",
      "align_content": null,
      "align_items": null,
      "align_self": null,
      "border": null,
      "bottom": null,
      "display": null,
      "flex": null,
      "flex_flow": null,
      "grid_area": null,
      "grid_auto_columns": null,
      "grid_auto_flow": null,
      "grid_auto_rows": null,
      "grid_column": null,
      "grid_gap": null,
      "grid_row": null,
      "grid_template_areas": null,
      "grid_template_columns": null,
      "grid_template_rows": null,
      "height": null,
      "justify_content": null,
      "justify_items": null,
      "left": null,
      "margin": null,
      "max_height": null,
      "max_width": null,
      "min_height": null,
      "min_width": null,
      "object_fit": null,
      "object_position": null,
      "order": null,
      "overflow": null,
      "overflow_x": null,
      "overflow_y": null,
      "padding": null,
      "right": null,
      "top": null,
      "visibility": null,
      "width": null
     }
    },
    "976177133ca6455cb14ab5df2334bb69": {
     "model_module": "@jupyter-widgets/base",
     "model_name": "LayoutModel",
     "model_module_version": "1.2.0",
     "state": {
      "_model_module": "@jupyter-widgets/base",
      "_model_module_version": "1.2.0",
      "_model_name": "LayoutModel",
      "_view_count": null,
      "_view_module": "@jupyter-widgets/base",
      "_view_module_version": "1.2.0",
      "_view_name": "LayoutView",
      "align_content": null,
      "align_items": null,
      "align_self": null,
      "border": null,
      "bottom": null,
      "display": null,
      "flex": null,
      "flex_flow": null,
      "grid_area": null,
      "grid_auto_columns": null,
      "grid_auto_flow": null,
      "grid_auto_rows": null,
      "grid_column": null,
      "grid_gap": null,
      "grid_row": null,
      "grid_template_areas": null,
      "grid_template_columns": null,
      "grid_template_rows": null,
      "height": null,
      "justify_content": null,
      "justify_items": null,
      "left": null,
      "margin": null,
      "max_height": null,
      "max_width": null,
      "min_height": null,
      "min_width": null,
      "object_fit": null,
      "object_position": null,
      "order": null,
      "overflow": null,
      "overflow_x": null,
      "overflow_y": null,
      "padding": null,
      "right": null,
      "top": null,
      "visibility": null,
      "width": null
     }
    },
    "387becfc6c17441c89ce3cb9bfc2ecc2": {
     "model_module": "@jupyter-widgets/controls",
     "model_name": "DescriptionStyleModel",
     "model_module_version": "1.5.0",
     "state": {
      "_model_module": "@jupyter-widgets/controls",
      "_model_module_version": "1.5.0",
      "_model_name": "DescriptionStyleModel",
      "_view_count": null,
      "_view_module": "@jupyter-widgets/base",
      "_view_module_version": "1.2.0",
      "_view_name": "StyleView",
      "description_width": ""
     }
    },
    "83780ad9f8b5438c9fe9f7ec5ffd2ac8": {
     "model_module": "@jupyter-widgets/base",
     "model_name": "LayoutModel",
     "model_module_version": "1.2.0",
     "state": {
      "_model_module": "@jupyter-widgets/base",
      "_model_module_version": "1.2.0",
      "_model_name": "LayoutModel",
      "_view_count": null,
      "_view_module": "@jupyter-widgets/base",
      "_view_module_version": "1.2.0",
      "_view_name": "LayoutView",
      "align_content": null,
      "align_items": null,
      "align_self": null,
      "border": null,
      "bottom": null,
      "display": null,
      "flex": null,
      "flex_flow": null,
      "grid_area": null,
      "grid_auto_columns": null,
      "grid_auto_flow": null,
      "grid_auto_rows": null,
      "grid_column": null,
      "grid_gap": null,
      "grid_row": null,
      "grid_template_areas": null,
      "grid_template_columns": null,
      "grid_template_rows": null,
      "height": null,
      "justify_content": null,
      "justify_items": null,
      "left": null,
      "margin": null,
      "max_height": null,
      "max_width": null,
      "min_height": null,
      "min_width": null,
      "object_fit": null,
      "object_position": null,
      "order": null,
      "overflow": null,
      "overflow_x": null,
      "overflow_y": null,
      "padding": null,
      "right": null,
      "top": null,
      "visibility": null,
      "width": null
     }
    },
    "db4e26d1d7064b81b81c58c82e371857": {
     "model_module": "@jupyter-widgets/controls",
     "model_name": "ProgressStyleModel",
     "model_module_version": "1.5.0",
     "state": {
      "_model_module": "@jupyter-widgets/controls",
      "_model_module_version": "1.5.0",
      "_model_name": "ProgressStyleModel",
      "_view_count": null,
      "_view_module": "@jupyter-widgets/base",
      "_view_module_version": "1.2.0",
      "_view_name": "StyleView",
      "bar_color": null,
      "description_width": ""
     }
    },
    "6ed0a56effb74987b5333db4bc236e7c": {
     "model_module": "@jupyter-widgets/base",
     "model_name": "LayoutModel",
     "model_module_version": "1.2.0",
     "state": {
      "_model_module": "@jupyter-widgets/base",
      "_model_module_version": "1.2.0",
      "_model_name": "LayoutModel",
      "_view_count": null,
      "_view_module": "@jupyter-widgets/base",
      "_view_module_version": "1.2.0",
      "_view_name": "LayoutView",
      "align_content": null,
      "align_items": null,
      "align_self": null,
      "border": null,
      "bottom": null,
      "display": null,
      "flex": null,
      "flex_flow": null,
      "grid_area": null,
      "grid_auto_columns": null,
      "grid_auto_flow": null,
      "grid_auto_rows": null,
      "grid_column": null,
      "grid_gap": null,
      "grid_row": null,
      "grid_template_areas": null,
      "grid_template_columns": null,
      "grid_template_rows": null,
      "height": null,
      "justify_content": null,
      "justify_items": null,
      "left": null,
      "margin": null,
      "max_height": null,
      "max_width": null,
      "min_height": null,
      "min_width": null,
      "object_fit": null,
      "object_position": null,
      "order": null,
      "overflow": null,
      "overflow_x": null,
      "overflow_y": null,
      "padding": null,
      "right": null,
      "top": null,
      "visibility": null,
      "width": null
     }
    },
    "9087d9887cef4720ab9258ec08ab1716": {
     "model_module": "@jupyter-widgets/controls",
     "model_name": "DescriptionStyleModel",
     "model_module_version": "1.5.0",
     "state": {
      "_model_module": "@jupyter-widgets/controls",
      "_model_module_version": "1.5.0",
      "_model_name": "DescriptionStyleModel",
      "_view_count": null,
      "_view_module": "@jupyter-widgets/base",
      "_view_module_version": "1.2.0",
      "_view_name": "StyleView",
      "description_width": ""
     }
    }
   }
  }
 },
 "cells": [
  {
   "cell_type": "code",
   "source": [
    "import numpy as np\n",
    "from scipy.stats import chi2, norm\n",
    "from scipy.optimize import minimize\n",
    "from tqdm.notebook import tqdm"
   ],
   "metadata": {
    "id": "bmazFGcgdkLA",
    "pycharm": {
     "name": "#%%\n"
    }
   },
   "execution_count": 1,
   "outputs": []
  },
  {
   "cell_type": "code",
   "source": [
    "data = np.arange(10)\n",
    "data = np.vstack((data, [1/(np.max(data)-np.min(data))] * 10))\n",
    "data = np.vstack((data, np.array([5, 8, 6, 12, 14, 18, 11, 6, 13, 7])))\n",
    "N = int(np.sum(data[2]))\n",
    "data = np.vstack((data, np.array([5, 8, 6, 12, 14, 18, 11, 6, 13, 7])/N))\n",
    "\n",
    "intervals = np.hstack((np.array(-np.inf), data[0][1:], np.array(np.inf))) - 0.5\n",
    "print(f'intervals: {intervals}')\n",
    "\n",
    "print(f'N = {N}')"
   ],
   "metadata": {
    "colab": {
     "base_uri": "https://localhost:8080/"
    },
    "id": "lyEy9HkDjaDF",
    "outputId": "a0c34ce5-7eef-4ebe-c70b-b2d557439a07",
    "pycharm": {
     "name": "#%%\n"
    }
   },
   "execution_count": 2,
   "outputs": [
    {
     "name": "stdout",
     "output_type": "stream",
     "text": [
      "intervals: [-inf  0.5  1.5  2.5  3.5  4.5  5.5  6.5  7.5  8.5  inf]\n",
      "N = 100\n"
     ]
    }
   ]
  },
  {
   "cell_type": "code",
   "source": [
    "sample = np.concatenate(np.array([[int(event)] * int(data[2][i]) for i, event in enumerate(data[0])], dtype=object)).astype(int)\n",
    "print(f'Sample - {sample}')"
   ],
   "metadata": {
    "colab": {
     "base_uri": "https://localhost:8080/"
    },
    "id": "4_vETvy5kEng",
    "outputId": "59b96945-6117-4956-a0bb-b32311bd3bc8",
    "pycharm": {
     "name": "#%%\n"
    }
   },
   "execution_count": 3,
   "outputs": [
    {
     "name": "stdout",
     "output_type": "stream",
     "text": [
      "Sample - [0 0 0 0 0 1 1 1 1 1 1 1 1 2 2 2 2 2 2 3 3 3 3 3 3 3 3 3 3 3 3 4 4 4 4 4 4\n",
      " 4 4 4 4 4 4 4 4 5 5 5 5 5 5 5 5 5 5 5 5 5 5 5 5 5 5 6 6 6 6 6 6 6 6 6 6 6\n",
      " 7 7 7 7 7 7 8 8 8 8 8 8 8 8 8 8 8 8 8 9 9 9 9 9 9 9]\n"
     ]
    }
   ]
  },
  {
   "cell_type": "code",
   "source": [
    "delta = np.sum((data[2]-N*data[1])**2 / (N*data[1]))\n",
    "k = 9\n",
    "print(f'p-value = {np.round(chi2(k).sf(delta), 3)}')"
   ],
   "metadata": {
    "colab": {
     "base_uri": "https://localhost:8080/"
    },
    "id": "WHThCB8wkVRx",
    "outputId": "66a0e671-9026-4f59-c503-901ec73e036e",
    "pycharm": {
     "name": "#%%\n"
    }
   },
   "execution_count": 4,
   "outputs": [
    {
     "name": "stdout",
     "output_type": "stream",
     "text": [
      "p-value = 0.07\n"
     ]
    }
   ]
  },
  {
   "cell_type": "code",
   "source": [
    "def kolmagorov_delta(sample):\n",
    "    n = np.size(sample)\n",
    "    x, y = np.unique(sample, return_counts=True)\n",
    "    y = (y/np.sum(y)).cumsum()\n",
    "    y = np.hstack((np.array([0.]), y))\n",
    "    a = 1/(np.max(x)-np.min(x))\n",
    "    b = -a * np.min(x)\n",
    "\n",
    "    deltas = []\n",
    "    c = a * x\n",
    "    for i in range(len(x)):\n",
    "        deltas.append(max(abs(y[i+1] - c[i]), abs(y[i] - c[i])))\n",
    "    return max(deltas) * (n**0.5)\n",
    "def cdf(x):\n",
    "        a = 0\n",
    "        for i in range(1, int(1e6) + 1):\n",
    "            a += (-1)**i * np.exp(-2 * i**2 * x**2)\n",
    "        return 1 + 2*a\n",
    "\n",
    "def sf(x):\n",
    "    return 1 - cdf(x)\n",
    "delta = kolmagorov_delta(sample)\n",
    "print(f'p-value = {np.round(sf(delta), 3)}')"
   ],
   "metadata": {
    "colab": {
     "base_uri": "https://localhost:8080/"
    },
    "id": "nN6wMsqHkwcv",
    "outputId": "0b5a70b1-5e8a-4287-abb6-db1bf5d3eddc",
    "pycharm": {
     "name": "#%%\n"
    }
   },
   "execution_count": 5,
   "outputs": [
    {
     "name": "stdout",
     "output_type": "stream",
     "text": [
      "p-value = 0.033\n"
     ]
    }
   ]
  },
  {
   "cell_type": "code",
   "source": [
    "def likelihood_function(variables):\n",
    "        mean, sigma = variables\n",
    "        counts = []\n",
    "        for i in range(len(intervals) - 1):\n",
    "            a, b = intervals[i], intervals[i+1]\n",
    "            counts = np.append(counts, np.count_nonzero((sample < b) & (sample >= a)))\n",
    "        return -np.prod((norm(mean, sigma).cdf(intervals[1:]) - norm(mean, sigma).cdf(intervals[:-1])) ** counts)\n",
    "\n",
    "def maxes_likelihood_function(sample_):\n",
    "    initial_guess = [5.0, 3.0]\n",
    "    result = minimize(likelihood_function, initial_guess, method='Nelder-Mead')\n",
    "    return np.round(result.x, 3)\n",
    "\n",
    "\n",
    "max_mean, max_sigma = maxes_likelihood_function(sample)\n",
    "print(f'Максимум функции правдоподобия L в точке: (a, sigma) = ({max_mean}; {max_sigma})')\n",
    "\n",
    "probs = (norm(max_mean, max_sigma).cdf(intervals[1:]) - norm(max_mean, max_sigma).cdf(intervals[:-1]))\n",
    "print(f'Вероятности событий: {np.round(probs, 3)}')\n",
    "\n",
    "delta_est = np.sum((data[2] - N*probs)**2 / (N*probs))\n",
    "k = 7\n",
    "print(f'p-value = {np.round(chi2(k).sf(delta_est), 3)}')"
   ],
   "metadata": {
    "colab": {
     "base_uri": "https://localhost:8080/"
    },
    "id": "DEP8vHgAms3T",
    "outputId": "3e10c3b5-bf70-4c9c-c951-9daa9bf39323",
    "pycharm": {
     "name": "#%%\n"
    }
   },
   "execution_count": 6,
   "outputs": [
    {
     "name": "stdout",
     "output_type": "stream",
     "text": [
      "Максимум функции правдоподобия L в точке: (a, sigma) = (4.79; 2.679)\n",
      "Вероятности событий: [0.055 0.055 0.087 0.119 0.142 0.148 0.134 0.106 0.073 0.083]\n",
      "p-value = 0.2\n"
     ]
    }
   ]
  },
  {
   "cell_type": "code",
   "source": [
    "class Fempirical:\n",
    "    def __init__(self, sample):\n",
    "        n = np.size(sample)\n",
    "        x, y = np.unique(sample, return_counts=True)\n",
    "        y = (y/np.sum(y)).cumsum()\n",
    "        y = np.hstack((np.array([0.]), y))\n",
    "        self.x = np.array(x).astype(float)\n",
    "        self.y = np.array(y).astype(float)\n",
    "\n",
    "    def cdf(self, x):\n",
    "        if x <= np.min(self.x):\n",
    "            return 0.\n",
    "        elif x > np.max(self.x):\n",
    "            return 1.\n",
    "        return self.y[np.where((self.x >= x) == True)[0][0]]\n",
    "\n",
    "\n",
    "class Festimated_OMPG:\n",
    "    def __init__(self, sample):\n",
    "        self.mean, self.sigma  = maxes_likelihood_function(sample)\n",
    "        self.params = (self.mean, self.sigma)\n",
    "        self.norm = norm(*self.params)\n",
    "\n",
    "    def cdf(self, x):\n",
    "        return self.norm.cdf(x)\n"
   ],
   "metadata": {
    "id": "PDS1W7oynykK",
    "pycharm": {
     "name": "#%%\n"
    }
   },
   "execution_count": 7,
   "outputs": []
  },
  {
   "cell_type": "code",
   "source": [
    "def delta_est_Kolmagorov(Fest, Femp):\n",
    "    def delta(x):\n",
    "        return -abs(Fest.cdf(x) - Femp.cdf(x))\n",
    "\n",
    "    result = minimize(delta, [0], method='Nelder-Mead')\n",
    "    return N**0.5 * -delta(result.x)[0]"
   ],
   "metadata": {
    "id": "_Ur9OCpZogOF",
    "pycharm": {
     "name": "#%%\n"
    }
   },
   "execution_count": 8,
   "outputs": []
  },
  {
   "cell_type": "code",
   "source": [
    "def bootstrap_with_parameter(sample,criterion='Kolmagorov',estimation='OMPG',BOOTSTRAP_RANGE=50_000,precision=3,log=20):\n",
    "    n = np.size(sample)\n",
    "    if estimation == 'OMPG':\n",
    "        F_est = Festimated_OMPG(sample)\n",
    "    if criterion == 'Kolmagorov':\n",
    "        F_emp = Fempirical(sample)\n",
    "        delta_est = delta_est_Kolmagorov(F_est, F_emp)\n",
    "    params = F_est.mean, F_est.sigma\n",
    "\n",
    "    deltas_est = []\n",
    "    k = 0\n",
    "    for i in tqdm(range(BOOTSTRAP_RANGE)):\n",
    "        sample_i = np.random.normal(*params, n)\n",
    "        if estimation == 'OMPG':\n",
    "            F_est_i = Festimated_OMPG(sample_i)\n",
    "        if criterion == 'Kolmagorov':\n",
    "            F_emp_i = Fempirical(sample_i)\n",
    "            delta_est_i = delta_est_Kolmagorov(F_est_i, F_emp_i)\n",
    "\n",
    "        k += delta_est_i > delta_est\n",
    "        deltas_est.append(delta_est_i)\n",
    "\n",
    "        a = BOOTSTRAP_RANGE * log / 100\n",
    "        if i % a == 0:\n",
    "            print(f'{round(i//a*log, precision)}%\\tp-value(...) = {round(k/BOOTSTRAP_RANGE, precision)}\\t(k = {k})', end='\\t')\n",
    "            print(f'[criterion is \"{criterion}\" | estimation is \"{estimation}\"]')\n",
    "\n",
    "\n",
    "    p_value = k/BOOTSTRAP_RANGE\n",
    "    return params, delta_est, deltas_est, p_value"
   ],
   "metadata": {
    "id": "bqX3QfTholTf",
    "pycharm": {
     "name": "#%%\n"
    }
   },
   "execution_count": 9,
   "outputs": []
  },
  {
   "cell_type": "code",
   "source": [
    "results = {}\n",
    "\n",
    "def plt_calc_bootstrap(crit, est, BOOTSTRAP_RANGE=50_000):\n",
    "    params, delta_est, deltas_est, p_value = bootstrap_with_parameter(sample, criterion=crit, estimation=est, BOOTSTRAP_RANGE=BOOTSTRAP_RANGE)\n",
    "    results[(crit, est)] = [params, deltas_est]\n",
    "    print(f'p-value = {np.round(p_value, 3)}')"
   ],
   "metadata": {
    "id": "BJcfPqS7pPfP",
    "pycharm": {
     "name": "#%%\n"
    }
   },
   "execution_count": 10,
   "outputs": []
  },
  {
   "cell_type": "code",
   "source": [
    "crit, est ='Kolmagorov', 'OMPG'\n",
    "plt_calc_bootstrap(crit, est)"
   ],
   "metadata": {
    "colab": {
     "base_uri": "https://localhost:8080/",
     "height": 67,
     "referenced_widgets": [
      "7cf9f7fe57c84181b6b694bbc70b3343",
      "c030e9fd61204f56b4d5c3a6fcabc2d2",
      "c06210eab7364871866e14ce72e9c4c6",
      "ae98072388bc478ba4ccff4d9ba3da95",
      "9e570e5f4f244451be9bed18d3653b9c",
      "976177133ca6455cb14ab5df2334bb69",
      "387becfc6c17441c89ce3cb9bfc2ecc2",
      "83780ad9f8b5438c9fe9f7ec5ffd2ac8",
      "db4e26d1d7064b81b81c58c82e371857",
      "6ed0a56effb74987b5333db4bc236e7c",
      "9087d9887cef4720ab9258ec08ab1716"
     ]
    },
    "id": "iOS491oLpVUw",
    "outputId": "b4c06526-7b7a-4b4d-bb72-447a05b914ab",
    "pycharm": {
     "name": "#%%\n"
    }
   },
   "execution_count": 11,
   "outputs": [
    {
     "data": {
      "text/plain": "  0%|          | 0/50000 [00:00<?, ?it/s]",
      "application/vnd.jupyter.widget-view+json": {
       "version_major": 2,
       "version_minor": 0,
       "model_id": "6a8068f266e14425b79e9570f3551c81"
      }
     },
     "metadata": {},
     "output_type": "display_data"
    },
    {
     "name": "stdout",
     "output_type": "stream",
     "text": [
      "0.0%\tp-value(...) = 0.0\t(k = 1)\t[criterion is \"Kolmagorov\" | estimation is \"OMPG\"]\n",
      "20.0%\tp-value(...) = 0.03\t(k = 1500)\t[criterion is \"Kolmagorov\" | estimation is \"OMPG\"]\n",
      "40.0%\tp-value(...) = 0.062\t(k = 3096)\t[criterion is \"Kolmagorov\" | estimation is \"OMPG\"]\n",
      "60.0%\tp-value(...) = 0.093\t(k = 4656)\t[criterion is \"Kolmagorov\" | estimation is \"OMPG\"]\n",
      "80.0%\tp-value(...) = 0.125\t(k = 6227)\t[criterion is \"Kolmagorov\" | estimation is \"OMPG\"]\n",
      "p-value = 0.155\n"
     ]
    }
   ]
  }
 ]
}