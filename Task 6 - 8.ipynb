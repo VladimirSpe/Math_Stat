{
  "nbformat": 4,
  "nbformat_minor": 0,
  "metadata": {
    "colab": {
      "provenance": []
    },
    "kernelspec": {
      "name": "python3",
      "display_name": "Python 3"
    },
    "language_info": {
      "name": "python"
    }
  },
  "cells": [
    {
      "cell_type": "code",
      "source": [
        "import numpy as np\n",
        "from scipy.stats import chi2"
      ],
      "metadata": {
        "id": "bmazFGcgdkLA"
      },
      "execution_count": 1,
      "outputs": []
    },
    {
      "cell_type": "markdown",
      "source": [
        "Задача 6"
      ],
      "metadata": {
        "id": "jMiGyjFudWye"
      }
    },
    {
      "cell_type": "code",
      "source": [
        "delta = 131.2\n",
        "k = 1\n",
        "print(f'p-value = {np.round(chi2(k).sf(delta), 3)}')"
      ],
      "metadata": {
        "colab": {
          "base_uri": "https://localhost:8080/"
        },
        "id": "0w62rItIdc-F",
        "outputId": "4c367d0c-da00-4e4a-db98-a2542634bc88"
      },
      "execution_count": 4,
      "outputs": [
        {
          "output_type": "stream",
          "name": "stdout",
          "text": [
            "p-value = 0.0\n"
          ]
        }
      ]
    },
    {
      "cell_type": "markdown",
      "source": [
        "Задача 7"
      ],
      "metadata": {
        "id": "T-DObHodeEcT"
      }
    },
    {
      "cell_type": "code",
      "source": [
        "delta = 20.479\n",
        "k = 2\n",
        "print(f'p-value = {np.round(chi2(k).sf(delta), 3)}')"
      ],
      "metadata": {
        "colab": {
          "base_uri": "https://localhost:8080/"
        },
        "id": "Xz4CQ6GqeG3L",
        "outputId": "987848b1-38fe-40f2-cd12-fd2711c20c8c"
      },
      "execution_count": 7,
      "outputs": [
        {
          "output_type": "stream",
          "name": "stdout",
          "text": [
            "p-value = 0.0\n"
          ]
        }
      ]
    },
    {
      "cell_type": "markdown",
      "source": [
        "Задача 8"
      ],
      "metadata": {
        "id": "vWkWRC_peWTG"
      }
    },
    {
      "cell_type": "code",
      "source": [
        "delta = 2.08\n",
        "k = 3\n",
        "print(f'p-value = {np.round(chi2(k).sf(delta), 3)}')"
      ],
      "metadata": {
        "colab": {
          "base_uri": "https://localhost:8080/"
        },
        "id": "3l6e3KoceZpu",
        "outputId": "89625a92-0e78-43ec-ddcf-50a9b238aec4"
      },
      "execution_count": 8,
      "outputs": [
        {
          "output_type": "stream",
          "name": "stdout",
          "text": [
            "p-value = 0.556\n"
          ]
        }
      ]
    }
  ]
}